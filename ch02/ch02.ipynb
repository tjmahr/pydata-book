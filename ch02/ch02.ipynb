{
 "metadata": {
  "name": "",
  "signature": "sha256:be93fbb1023272b4b3a60528c95e7b10a013cb53895e8fd42e66ae7e9865c840"
 },
 "nbformat": 3,
 "nbformat_minor": 0,
 "worksheets": [
  {
   "cells": [
    {
     "cell_type": "markdown",
     "metadata": {},
     "source": [
      "## Preliminaries\n",
      "Report software versions. Good for reproducibility."
     ]
    },
    {
     "cell_type": "code",
     "collapsed": false,
     "input": [
      "# Install version reporter -- only have to do this once\n",
      "# %install_ext http://raw.github.com/jrjohansson/version_information/master/version_information.py"
     ],
     "language": "python",
     "metadata": {},
     "outputs": [],
     "prompt_number": 1
    },
    {
     "cell_type": "code",
     "collapsed": false,
     "input": [
      "%load_ext version_information\n",
      "%version_information numpy, scipy, matplotlib, sympy, pandas"
     ],
     "language": "python",
     "metadata": {},
     "outputs": [
      {
       "html": [
        "<table><tr><th>Software</th><th>Version</th></tr><tr><td>Python</td><td>3.4.1 |Anaconda 2.0.1 (64-bit)| (default, Jun 11 2014, 17:27:11) [MSC v.1600 64 bit (AMD64)]</td></tr><tr><td>IPython</td><td>2.1.0</td></tr><tr><td>OS</td><td>nt [win32]</td></tr><tr><td>numpy</td><td>1.8.1</td></tr><tr><td>scipy</td><td>0.14.0</td></tr><tr><td>matplotlib</td><td>1.3.1</td></tr><tr><td>sympy</td><td>0.7.5</td></tr><tr><td>pandas</td><td>0.14.0</td></tr><tr><td colspan='2'>Fri Jul 18 10:30:01 2014 Central Daylight Time</td></tr></table>"
       ],
       "json": [
        "{\"Software versions\": [{\"module\": \"Python\", \"version\": \"3.4.1 |Anaconda 2.0.1 (64-bit)| (default, Jun 11 2014, 17:27:11) [MSC v.1600 64 bit (AMD64)]\"}, {\"module\": \"IPython\", \"version\": \"2.1.0\"}, {\"module\": \"OS\", \"version\": \"nt [win32]\"}, {\"module\": \"numpy\", \"version\": \"1.8.1\"}, {\"module\": \"scipy\", \"version\": \"0.14.0\"}, {\"module\": \"matplotlib\", \"version\": \"1.3.1\"}, {\"module\": \"sympy\", \"version\": \"0.7.5\"}, {\"module\": \"pandas\", \"version\": \"0.14.0\"}]}"
       ],
       "latex": [
        "\\begin{tabular}{|l|l|}\\hline\n",
        "{\\bf Software} & {\\bf Version} \\\\ \\hline\\hline\n",
        "Python & 3.4.1 |Anaconda 2.0.1 (64-bit)| (default, Jun 11 2014, 17:27:11) [MSC v.1600 64 bit (AMD64)] \\\\ \\hline\n",
        "IPython & 2.1.0 \\\\ \\hline\n",
        "OS & nt [win32] \\\\ \\hline\n",
        "numpy & 1.8.1 \\\\ \\hline\n",
        "scipy & 0.14.0 \\\\ \\hline\n",
        "matplotlib & 1.3.1 \\\\ \\hline\n",
        "sympy & 0.7.5 \\\\ \\hline\n",
        "pandas & 0.14.0 \\\\ \\hline\n",
        "\\hline \\multicolumn{2}{|l|}{Fri Jul 18 10:30:01 2014 Central Daylight Time} \\\\ \\hline\n",
        "\\end{tabular}\n"
       ],
       "metadata": {},
       "output_type": "pyout",
       "prompt_number": 2,
       "text": [
        "Software versions\n",
        "Python 3.4.1 |Anaconda 2.0.1 (64-bit)| (default, Jun 11 2014, 17:27:11) [MSC v.1600 64 bit (AMD64)]\n",
        "IPython 2.1.0\n",
        "OS nt [win32]\n",
        "numpy 1.8.1\n",
        "scipy 0.14.0\n",
        "matplotlib 1.3.1\n",
        "sympy 0.7.5\n",
        "pandas 0.14.0\n",
        "<tr><td colspan='2'>Fri Jul 18 10:30:01 2014 Central Daylight Time</td></tr>"
       ]
      }
     ],
     "prompt_number": 2
    },
    {
     "cell_type": "markdown",
     "metadata": {},
     "source": [
      "## Introductory examples\n",
      "\n",
      "### Loading records from a json file"
     ]
    },
    {
     "cell_type": "code",
     "collapsed": false,
     "input": [
      "# View first line\n",
      "path = \"usagov_bitly_data2012-03-16-1331923249.txt\"\n",
      "open(path).readline()"
     ],
     "language": "python",
     "metadata": {},
     "outputs": [
      {
       "metadata": {},
       "output_type": "pyout",
       "prompt_number": 3,
       "text": [
        "'{ \"a\": \"Mozilla\\\\/5.0 (Windows NT 6.1; WOW64) AppleWebKit\\\\/535.11 (KHTML, like Gecko) Chrome\\\\/17.0.963.78 Safari\\\\/535.11\", \"c\": \"US\", \"nk\": 1, \"tz\": \"America\\\\/New_York\", \"gr\": \"MA\", \"g\": \"A6qOVH\", \"h\": \"wfLQtf\", \"l\": \"orofrog\", \"al\": \"en-US,en;q=0.8\", \"hh\": \"1.usa.gov\", \"r\": \"http:\\\\/\\\\/www.facebook.com\\\\/l\\\\/7AQEFzjSi\\\\/1.usa.gov\\\\/wfLQtf\", \"u\": \"http:\\\\/\\\\/www.ncbi.nlm.nih.gov\\\\/pubmed\\\\/22415991\", \"t\": 1331923247, \"hc\": 1331822918, \"cy\": \"Danvers\", \"ll\": [ 42.576698, -70.954903 ] }\\n'"
       ]
      }
     ],
     "prompt_number": 3
    },
    {
     "cell_type": "code",
     "collapsed": false,
     "input": [
      "import json\n",
      "# This list comprehension calls json.loads on each line in the file\n",
      "records = [json.loads(line) for line in open(path)]\n",
      "# We now have a list of dicts\n",
      "records[0]"
     ],
     "language": "python",
     "metadata": {},
     "outputs": [
      {
       "metadata": {},
       "output_type": "pyout",
       "prompt_number": 4,
       "text": [
        "{'ll': [42.576698, -70.954903],\n",
        " 'h': 'wfLQtf',\n",
        " 't': 1331923247,\n",
        " 'hc': 1331822918,\n",
        " 'c': 'US',\n",
        " 'hh': '1.usa.gov',\n",
        " 'cy': 'Danvers',\n",
        " 'al': 'en-US,en;q=0.8',\n",
        " 'nk': 1,\n",
        " 'gr': 'MA',\n",
        " 'r': 'http://www.facebook.com/l/7AQEFzjSi/1.usa.gov/wfLQtf',\n",
        " 'g': 'A6qOVH',\n",
        " 'l': 'orofrog',\n",
        " 'tz': 'America/New_York',\n",
        " 'a': 'Mozilla/5.0 (Windows NT 6.1; WOW64) AppleWebKit/535.11 (KHTML, like Gecko) Chrome/17.0.963.78 Safari/535.11',\n",
        " 'u': 'http://www.ncbi.nlm.nih.gov/pubmed/22415991'}"
       ]
      }
     ],
     "prompt_number": 4
    },
    {
     "cell_type": "code",
     "collapsed": false,
     "input": [
      "type(records)"
     ],
     "language": "python",
     "metadata": {},
     "outputs": [
      {
       "metadata": {},
       "output_type": "pyout",
       "prompt_number": 5,
       "text": [
        "list"
       ]
      }
     ],
     "prompt_number": 5
    },
    {
     "cell_type": "code",
     "collapsed": false,
     "input": [
      "type(records[0])"
     ],
     "language": "python",
     "metadata": {},
     "outputs": [
      {
       "metadata": {},
       "output_type": "pyout",
       "prompt_number": 6,
       "text": [
        "dict"
       ]
      }
     ],
     "prompt_number": 6
    },
    {
     "cell_type": "code",
     "collapsed": false,
     "input": [
      "records[0][\"tz\"]"
     ],
     "language": "python",
     "metadata": {},
     "outputs": [
      {
       "metadata": {},
       "output_type": "pyout",
       "prompt_number": 7,
       "text": [
        "'America/New_York'"
       ]
      }
     ],
     "prompt_number": 7
    },
    {
     "cell_type": "markdown",
     "metadata": {},
     "source": [
      "### Counting timezones in pure python"
     ]
    },
    {
     "cell_type": "code",
     "collapsed": false,
     "input": [
      "# Not all records have a timezone so use a smarter comprehension\n",
      "time_zones = [rec[\"tz\"] for rec in records if \"tz\" in rec]\n",
      "time_zones[:10]"
     ],
     "language": "python",
     "metadata": {},
     "outputs": [
      {
       "metadata": {},
       "output_type": "pyout",
       "prompt_number": 8,
       "text": [
        "['America/New_York',\n",
        " 'America/Denver',\n",
        " 'America/New_York',\n",
        " 'America/Sao_Paulo',\n",
        " 'America/New_York',\n",
        " 'America/New_York',\n",
        " 'Europe/Warsaw',\n",
        " '',\n",
        " '',\n",
        " '']"
       ]
      }
     ],
     "prompt_number": 8
    },
    {
     "cell_type": "code",
     "collapsed": false,
     "input": [
      "from collections import defaultdict\n",
      "\n",
      "def get_counts2(sequence):\n",
      "    counts = defaultdict(int) # Initialize counts\n",
      "    for x in sequence:\n",
      "        counts[x] += 1\n",
      "    return counts\n",
      "\n",
      "counts = get_counts2(time_zones)\n",
      "type(counts)"
     ],
     "language": "python",
     "metadata": {},
     "outputs": [
      {
       "metadata": {},
       "output_type": "pyout",
       "prompt_number": 9,
       "text": [
        "collections.defaultdict"
       ]
      }
     ],
     "prompt_number": 9
    },
    {
     "cell_type": "code",
     "collapsed": false,
     "input": [
      "counts[\"America/New_York\"]"
     ],
     "language": "python",
     "metadata": {},
     "outputs": [
      {
       "metadata": {},
       "output_type": "pyout",
       "prompt_number": 10,
       "text": [
        "1251"
       ]
      }
     ],
     "prompt_number": 10
    },
    {
     "cell_type": "code",
     "collapsed": false,
     "input": [
      "len(time_zones)"
     ],
     "language": "python",
     "metadata": {},
     "outputs": [
      {
       "metadata": {},
       "output_type": "pyout",
       "prompt_number": 11,
       "text": [
        "3440"
       ]
      }
     ],
     "prompt_number": 11
    },
    {
     "cell_type": "markdown",
     "metadata": {},
     "source": [
      "#### Get the top 10"
     ]
    },
    {
     "cell_type": "code",
     "collapsed": false,
     "input": [
      "def top_counts(count_dict, n = 10):\n",
      "    value_key_pairs = [(count, tz) for tz, count in count_dict.items()]\n",
      "    value_key_pairs.sort()\n",
      "    return value_key_pairs[-n:]\n",
      "\n",
      "top_counts(counts)"
     ],
     "language": "python",
     "metadata": {},
     "outputs": [
      {
       "metadata": {},
       "output_type": "pyout",
       "prompt_number": 12,
       "text": [
        "[(33, 'America/Sao_Paulo'),\n",
        " (35, 'Europe/Madrid'),\n",
        " (36, 'Pacific/Honolulu'),\n",
        " (37, 'Asia/Tokyo'),\n",
        " (74, 'Europe/London'),\n",
        " (191, 'America/Denver'),\n",
        " (382, 'America/Los_Angeles'),\n",
        " (400, 'America/Chicago'),\n",
        " (521, ''),\n",
        " (1251, 'America/New_York')]"
       ]
      }
     ],
     "prompt_number": 12
    },
    {
     "cell_type": "code",
     "collapsed": false,
     "input": [
      "# Or use the standard library\n",
      "from collections import Counter\n",
      "counts = Counter(time_zones)\n",
      "type(counts)"
     ],
     "language": "python",
     "metadata": {},
     "outputs": [
      {
       "metadata": {},
       "output_type": "pyout",
       "prompt_number": 13,
       "text": [
        "collections.Counter"
       ]
      }
     ],
     "prompt_number": 13
    },
    {
     "cell_type": "code",
     "collapsed": false,
     "input": [
      "counts.most_common(10)"
     ],
     "language": "python",
     "metadata": {},
     "outputs": [
      {
       "metadata": {},
       "output_type": "pyout",
       "prompt_number": 14,
       "text": [
        "[('America/New_York', 1251),\n",
        " ('', 521),\n",
        " ('America/Chicago', 400),\n",
        " ('America/Los_Angeles', 382),\n",
        " ('America/Denver', 191),\n",
        " ('Europe/London', 74),\n",
        " ('Asia/Tokyo', 37),\n",
        " ('Pacific/Honolulu', 36),\n",
        " ('Europe/Madrid', 35),\n",
        " ('America/Sao_Paulo', 33)]"
       ]
      }
     ],
     "prompt_number": 14
    },
    {
     "cell_type": "code",
     "collapsed": false,
     "input": [],
     "language": "python",
     "metadata": {},
     "outputs": []
    }
   ],
   "metadata": {}
  }
 ]
}